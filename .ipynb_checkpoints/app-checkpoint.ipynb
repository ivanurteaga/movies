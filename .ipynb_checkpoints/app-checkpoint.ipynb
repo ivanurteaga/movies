{
 "cells": [
  {
   "cell_type": "markdown",
   "metadata": {},
   "source": [
    "#### Importing libraries"
   ]
  },
  {
   "cell_type": "code",
   "execution_count": null,
   "metadata": {},
   "outputs": [],
   "source": [
    "from bs4 import BeautifulSoup as bs\n",
    "import requests"
   ]
  },
  {
   "cell_type": "markdown",
   "metadata": {},
   "source": [
    "#### Load the webpage"
   ]
  },
  {
   "cell_type": "code",
   "execution_count": null,
   "metadata": {},
   "outputs": [],
   "source": [
    "r = requests.get('https://en.wikipedia.org/wiki/Argo_(2012_film)')\n",
    "\n",
    "soup = bs(r.content) # Convert into bs object\n",
    "\n",
    "content = soup.prettify()\n",
    "print(content)"
   ]
  },
  {
   "cell_type": "code",
   "execution_count": null,
   "metadata": {},
   "outputs": [],
   "source": [
    "wiki_box = soup.find(class_ = 'infobox vevent')\n",
    "gen_info = wiki_box.find_all('tr')\n",
    "\n",
    "for row in gen_info:\n",
    "    print(row.prettify())"
   ]
  },
  {
   "cell_type": "markdown",
   "metadata": {},
   "source": [
    "#### Placing the data in a dictionary"
   ]
  },
  {
   "cell_type": "code",
   "execution_count": 4,
   "metadata": {},
   "outputs": [
    {
     "data": {
      "text/plain": [
       "{'tittle': 'Argo',\n",
       " 'Directed by': 'Ben Affleck',\n",
       " 'Produced by': ['Ben Affleck', 'George Clooney', 'Grant Heslov'],\n",
       " 'Screenplay by': 'Chris Terrio',\n",
       " 'Based on': ['The Master of Disguise by Antonio J. Mendez',\n",
       "  '\"The Great Escape: How the CIA Used a Fake Sci-Fi Flick to Rescue Americans from Tehran\" by Joshuah Bearman'],\n",
       " 'Starring': ['Ben Affleck', 'Bryan Cranston', 'Alan Arkin', 'John Goodman'],\n",
       " 'Music by': 'Alexandre Desplat',\n",
       " 'Cinematography': 'Rodrigo Prieto',\n",
       " 'Edited by': 'William Goldenberg',\n",
       " 'Production companies': ['GK Films', 'Smokehouse Pictures'],\n",
       " 'Distributed by': 'Warner Bros. Pictures',\n",
       " 'Release date': ['August 31, 2012 ( 2012-08-31 ) ( Telluride )',\n",
       "  'October 12, 2012 ( 2012-10-12 ) (United States)'],\n",
       " 'Running time': '120 minutes [1]',\n",
       " 'Country': 'United States',\n",
       " 'Language': 'English',\n",
       " 'Budget': '$44.5 million [2]',\n",
       " 'Box office': '$232.3 million [2]'}"
      ]
     },
     "execution_count": 4,
     "metadata": {},
     "output_type": "execute_result"
    }
   ],
   "source": [
    "movie_info = {}\n",
    "\n",
    "def get_content_value(row_data):\n",
    "    if row_data.find('li'):\n",
    "        return [li.get_text(\" \",strip=True).replace('\\xa0', \" \") for li in row_data.find_all('li')]\n",
    "    else:\n",
    "        return row_data.get_text(\" \",strip=True).replace('\\xa0', \" \")\n",
    "\n",
    "def sup_content(row_data):\n",
    "    if row_data.find('sup'):\n",
    "        return [sup.get_text(\" \",strip=True) for sup in row_data.find_all('sup')]\n",
    "\n",
    "for index,row in enumerate(gen_info):\n",
    "    if index == 0:\n",
    "        movie_info['tittle'] = row.find('th').get_text(\" \",strip=True)\n",
    "    elif index == 1: # because index 1 its the picture\n",
    "        pass\n",
    "    else:\n",
    "        content_key = row.find('th').get_text(\" \",strip=True)\n",
    "        content_value = get_content_value(row.find('td'))\n",
    "        movie_info[content_key] = content_value\n",
    "     \n",
    "\n",
    "movie_info"
   ]
  },
  {
   "cell_type": "code",
   "execution_count": null,
   "metadata": {},
   "outputs": [],
   "source": []
  }
 ],
 "metadata": {
  "kernelspec": {
   "display_name": "Python 3.8.10 64-bit ('.venv': poetry)",
   "language": "python",
   "name": "python3810jvsc74a57bd00e371196b08b94142bb454855045acb075634a5f6531c4d4fcdbeafe0719f1d1"
  },
  "language_info": {
   "codemirror_mode": {
    "name": "ipython",
    "version": 3
   },
   "file_extension": ".py",
   "mimetype": "text/x-python",
   "name": "python",
   "nbconvert_exporter": "python",
   "pygments_lexer": "ipython3",
   "version": "3.8.10"
  }
 },
 "nbformat": 4,
 "nbformat_minor": 2
}
